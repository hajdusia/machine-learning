{
 "cells": [
  {
   "cell_type": "markdown",
   "metadata": {},
   "source": [
    "# Anna Hajduk - Homework 2"
   ]
  },
  {
   "cell_type": "markdown",
   "metadata": {},
   "source": [
    "Implement the Czekanowski-Dice index:\n",
    "\\begin{equation}\n",
    "C=2\\frac{P\\times R}{R+R}.\n",
    "\\end{equation}\n",
    "Precision is defined as:\n",
    "\\begin{equation}\n",
    "PPV=\\frac{\\#TP}{\\#TP+\\#FP}.\n",
    "\\end{equation}\n",
    "Recall is defined as:\n",
    "\\begin{equation}\n",
    "TPR=\\frac{\\#TP}{\\#TP+\\#FN}.\n",
    "\\end{equation}"
   ]
  },
  {
   "cell_type": "code",
   "execution_count": 1,
   "metadata": {},
   "outputs": [],
   "source": [
    "def czekanowski_dice_index(data_set,assignation,labels):\n",
    "    assigned_groups = []\n",
    "    for el in range(len(assignation)):\n",
    "        group_id = np.argmax(assignation[el])\n",
    "        assigned_groups.append(group_id)\n",
    "        \n",
    "    tp = 0\n",
    "    fn = 0\n",
    "    fp = 0\n",
    "    \n",
    "    for p1 in range(len(data_set)):\n",
    "        for p2 in range(len(data_set)):\n",
    "            if p1 != p2:\n",
    "                if np.argmax(assignation[p1]) == np.argmax(assignation[p2]) and labels[p1] == labels[p2]:\n",
    "                    tp += 1\n",
    "                if np.argmax(assignation[p1]) == np.argmax(assignation[p2]) and labels[p1] != labels[p2]:\n",
    "                    fn += 1\n",
    "                if np.argmax(assignation[p1]) != np.argmax(assignation[p2]) and labels[p1] == labels[p2]:\n",
    "                    fp += 1\n",
    "    \n",
    "    precision = tp / (tp + fp)\n",
    "    recall = tp / (tp + fn)\n",
    "    \n",
    "    return 2 * precision * recall / (recall + recall)"
   ]
  }
 ],
 "metadata": {
  "kernelspec": {
   "display_name": "Python 3",
   "language": "python",
   "name": "python3"
  },
  "language_info": {
   "codemirror_mode": {
    "name": "ipython",
    "version": 3
   },
   "file_extension": ".py",
   "mimetype": "text/x-python",
   "name": "python",
   "nbconvert_exporter": "python",
   "pygments_lexer": "ipython3",
   "version": "3.6.5"
  }
 },
 "nbformat": 4,
 "nbformat_minor": 2
}
